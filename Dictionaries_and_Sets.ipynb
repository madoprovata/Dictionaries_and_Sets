{
 "cells": [
  {
   "cell_type": "code",
   "execution_count": 10,
   "id": "82a84d01-1e7c-4593-92c1-51f25f524f96",
   "metadata": {},
   "outputs": [
    {
     "name": "stdout",
     "output_type": "stream",
     "text": [
      "{'Monday': 32.5, 'Tuesday': 35.6, 'Wednesday': 37.3, 'Thursday': 33.4}\n"
     ]
    }
   ],
   "source": [
    "# 3. Dictionaries \n",
    "#Weather Data \n",
    "\n",
    "weather = {\n",
    "    'Monday': 32.5,\n",
    "    'Tuesday': 35.6,\n",
    "    'Wednesday': 37.3,\n",
    "    'Thursday': 33.4\n",
    "}\n",
    "\n",
    "print(weather)\n"
   ]
  },
  {
   "cell_type": "code",
   "execution_count": 12,
   "id": "eba1e120-f9aa-4b4a-a9f8-b18c18c8e06d",
   "metadata": {},
   "outputs": [
    {
     "name": "stdout",
     "output_type": "stream",
     "text": [
      "37.3\n"
     ]
    }
   ],
   "source": [
    "#getting a value for a specific day\n",
    "print(weather['Wednesday'])"
   ]
  },
  {
   "cell_type": "code",
   "execution_count": 24,
   "id": "3a2adf1b-a05d-470b-b7aa-efce95466455",
   "metadata": {},
   "outputs": [
    {
     "name": "stdout",
     "output_type": "stream",
     "text": [
      "Not Available\n",
      "37.3\n"
     ]
    }
   ],
   "source": [
    "#Get a day that is not on the list, but without getting ERROR\n",
    "print(weather.get('Friday', 'Not Available'))\n",
    "print(weather.get('Wednesday', 'Not Available'))"
   ]
  },
  {
   "cell_type": "code",
   "execution_count": 26,
   "id": "ce04d706-b4e5-4496-84c0-b0871dedf3fb",
   "metadata": {},
   "outputs": [
    {
     "name": "stdout",
     "output_type": "stream",
     "text": [
      "{'Monday': 32.5, 'Tuesday': 35.6, 'Wednesday': 37.3, 'Thursday': 33.4, 'Sunday': 35.2}\n"
     ]
    }
   ],
   "source": [
    "#Adding a new key value \n",
    "weather['Sunday'] = 35.2\n",
    "print(weather)"
   ]
  },
  {
   "cell_type": "code",
   "execution_count": 29,
   "id": "11956dc4-2c81-4ffc-9717-45cb6a4d2632",
   "metadata": {},
   "outputs": [
    {
     "name": "stdout",
     "output_type": "stream",
     "text": [
      "{'Monday': 32.5, 'Tuesday': 35.6, 'Wednesday': 37.3, 'Thursday': 33.4}\n"
     ]
    }
   ],
   "source": [
    "#Removing a value POP\n",
    "weather.pop('Sunday')\n",
    "print(weather)"
   ]
  },
  {
   "cell_type": "code",
   "execution_count": 33,
   "id": "5b6c008b-b8d5-4b63-b9d9-3755070bd603",
   "metadata": {},
   "outputs": [
    {
     "name": "stdout",
     "output_type": "stream",
     "text": [
      "True\n",
      "False\n"
     ]
    }
   ],
   "source": [
    "#Check if value is present \n",
    "print('Monday' in weather)\n",
    "print('Monday' not in weather)"
   ]
  },
  {
   "cell_type": "code",
   "execution_count": 35,
   "id": "0db5cc28-f9de-49bb-876d-85443dc39740",
   "metadata": {},
   "outputs": [
    {
     "name": "stdout",
     "output_type": "stream",
     "text": [
      "{'Monday': 32.5, 'Tuesday': 35.6, 'Wednesday': 37.3, 'Thursday': 33.4}\n"
     ]
    }
   ],
   "source": [
    "#Copy dictionary to another variable \n",
    "w_new = weather.copy()\n",
    "print(w_new)"
   ]
  },
  {
   "cell_type": "code",
   "execution_count": 37,
   "id": "1d93f755-773b-416f-b218-551bba27d129",
   "metadata": {},
   "outputs": [],
   "source": [
    "#4. SETS "
   ]
  },
  {
   "cell_type": "code",
   "execution_count": 41,
   "id": "b1ae6748-5896-483b-bb4d-d3bbd61dd1f7",
   "metadata": {},
   "outputs": [
    {
     "name": "stdout",
     "output_type": "stream",
     "text": [
      "{32.5, 33.0, 32.2, 35.0, 34.1, 36.1, 34.5}\n"
     ]
    }
   ],
   "source": [
    "daily_temp = {32.5, 32.2, 33.0, 35.0, 34.1, 36.1, 32.2, 33.0, 34.1, 32.5, 34.5}\n",
    "\n",
    "print(daily_temp) #sets removes duplicated values\n"
   ]
  },
  {
   "cell_type": "code",
   "execution_count": 43,
   "id": "95010ac3-8379-4332-8c1c-96d8eb169119",
   "metadata": {},
   "outputs": [
    {
     "name": "stdout",
     "output_type": "stream",
     "text": [
      "{32.5, 33.0, 32.2, 35.0, 34.1, 36.1, 34.5, 37.0}\n"
     ]
    }
   ],
   "source": [
    "#Adding elements\n",
    "daily_temp.add(37.0)\n",
    "print(daily_temp)"
   ]
  },
  {
   "cell_type": "code",
   "execution_count": 45,
   "id": "624fe0cf-2235-4fc5-a269-8be4c2227984",
   "metadata": {},
   "outputs": [
    {
     "name": "stdout",
     "output_type": "stream",
     "text": [
      "{32.5, 33.0, 32.2, 35.0, 34.1, 36.1, 34.5, 37.0}\n"
     ]
    }
   ],
   "source": [
    "#Removing Elements that are NOT present \n",
    "daily_temp.discard(37.1) #Use discard INSTEAD of REMOVE\n",
    "print(daily_temp)"
   ]
  },
  {
   "cell_type": "code",
   "execution_count": 54,
   "id": "2339eba8-6f40-4a20-b93b-08abb5853170",
   "metadata": {},
   "outputs": [
    {
     "name": "stdout",
     "output_type": "stream",
     "text": [
      "{32.5, 33.0, 32.2, 35.0, 34.1, 36.1, 34.5}\n",
      "set()\n"
     ]
    },
    {
     "ename": "NameError",
     "evalue": "name 'daily' is not defined",
     "output_type": "error",
     "traceback": [
      "\u001b[1;31m---------------------------------------------------------------------------\u001b[0m",
      "\u001b[1;31mNameError\u001b[0m                                 Traceback (most recent call last)",
      "Cell \u001b[1;32mIn[54], line 10\u001b[0m\n\u001b[0;32m      7\u001b[0m \u001b[38;5;66;03m#Delete set() completely\u001b[39;00m\n\u001b[0;32m      9\u001b[0m \u001b[38;5;28;01mdel\u001b[39;00m daily\n\u001b[1;32m---> 10\u001b[0m \u001b[38;5;28mprint\u001b[39m(daily)\n",
      "\u001b[1;31mNameError\u001b[0m: name 'daily' is not defined"
     ]
    }
   ],
   "source": [
    "#Clear all values of sets but keep name \n",
    "daily = {32.5, 32.2, 33.0, 35.0, 34.1, 36.1, 32.2, 33.0, 34.1, 32.5, 34.5}\n",
    "print(daily)\n",
    "daily.clear() #output set() means that there is a set present \n",
    "print(daily)\n",
    "\n",
    "#Delete set() completely\n",
    "\n",
    "del daily\n",
    "print(daily) #Output error because variable has been deleted \n"
   ]
  },
  {
   "cell_type": "code",
   "execution_count": 58,
   "id": "01d84ab1-7656-45c4-8ce8-f06736471b8a",
   "metadata": {},
   "outputs": [],
   "source": [
    "#Wowrking with TWO different sets \n",
    "\n",
    "set1 = {1, 3, 4, 5, 6}\n",
    "set2 = {3, 7, 2, 4, 9}"
   ]
  },
  {
   "cell_type": "code",
   "execution_count": 60,
   "id": "d882f020-3cde-4bc2-8c6d-8d38a451fef7",
   "metadata": {},
   "outputs": [
    {
     "name": "stdout",
     "output_type": "stream",
     "text": [
      "{1, 2, 3, 4, 5, 6, 7, 9}\n"
     ]
    }
   ],
   "source": [
    "#UNION - combine and ignore duplicates\n",
    "\n",
    "print(set1 | set2)"
   ]
  },
  {
   "cell_type": "code",
   "execution_count": 62,
   "id": "5bbd21d6-4c9f-422c-97ba-ae000a2500db",
   "metadata": {},
   "outputs": [
    {
     "name": "stdout",
     "output_type": "stream",
     "text": [
      "{3, 4}\n"
     ]
    }
   ],
   "source": [
    "#Fidning COMMON elements - Intersection \n",
    "print(set1 & set2)"
   ]
  },
  {
   "cell_type": "code",
   "execution_count": 66,
   "id": "12cd9616-c017-4c8c-9de1-0c93331ed495",
   "metadata": {},
   "outputs": [
    {
     "name": "stdout",
     "output_type": "stream",
     "text": [
      "{1, 5, 6}\n",
      "{9, 2, 7}\n"
     ]
    }
   ],
   "source": [
    "#Subtract elements, present in one but not the other \n",
    "print(set1 - set2) # output is elements not present in set2\n",
    "print(set2 - set1) # output is elements not present in set1 "
   ]
  },
  {
   "cell_type": "code",
   "execution_count": 68,
   "id": "8d083b9f-57d0-491e-a538-64863f91e8f8",
   "metadata": {},
   "outputs": [
    {
     "name": "stdout",
     "output_type": "stream",
     "text": [
      "{1, 3, 4, 5, 6}\n"
     ]
    }
   ],
   "source": [
    "#Create a copy \n",
    "setb = set1.copy()\n",
    "print(setb)"
   ]
  }
 ],
 "metadata": {
  "kernelspec": {
   "display_name": "Python 3 (ipykernel)",
   "language": "python",
   "name": "python3"
  },
  "language_info": {
   "codemirror_mode": {
    "name": "ipython",
    "version": 3
   },
   "file_extension": ".py",
   "mimetype": "text/x-python",
   "name": "python",
   "nbconvert_exporter": "python",
   "pygments_lexer": "ipython3",
   "version": "3.12.7"
  }
 },
 "nbformat": 4,
 "nbformat_minor": 5
}
